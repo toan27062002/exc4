{
  "nbformat": 4,
  "nbformat_minor": 0,
  "metadata": {
    "colab": {
      "name": "Untitled7.ipynb",
      "provenance": [],
      "authorship_tag": "ABX9TyP9QjczEWvrC40bnbtD1MPi",
      "include_colab_link": true
    },
    "kernelspec": {
      "name": "python3",
      "display_name": "Python 3"
    }
  },
  "cells": [
    {
      "cell_type": "markdown",
      "metadata": {
        "id": "view-in-github",
        "colab_type": "text"
      },
      "source": [
        "<a href=\"https://colab.research.google.com/github/toan27062002/exc4/blob/main/b12-2.ipynb\" target=\"_parent\"><img src=\"https://colab.research.google.com/assets/colab-badge.svg\" alt=\"Open In Colab\"/></a>"
      ]
    },
    {
      "cell_type": "code",
      "metadata": {
        "id": "rvVGU7XaKjKT"
      },
      "source": [
        "import random, string\n",
        "dic={}\n",
        "k=random.randint(1,30)# so phan tu trong dict\n",
        "for j in range(k):\n",
        "    n = random.randint(1,12)\n",
        "    name = random.choice(string.ascii_letters)\n",
        "    for i in range(n):\n",
        "        name += random.choice(string.ascii_lowercase)\n",
        "        name=str.capitalize (name)\n",
        "    age = random.randint(0, 125)\n",
        "    dic[name]=str(age)\n",
        "    \n",
        "    \n",
        "print('Dictionary vừa tạo:',dic)"
      ],
      "execution_count": null,
      "outputs": []
    }
  ]
}