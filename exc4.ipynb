{
  "nbformat": 4,
  "nbformat_minor": 0,
  "metadata": {
    "colab": {
      "name": "exc4.ipynb",
      "provenance": [],
      "authorship_tag": "ABX9TyPhHaXk7aTV5EjEAINgB3DE",
      "include_colab_link": true
    },
    "kernelspec": {
      "name": "python3",
      "display_name": "Python 3"
    }
  },
  "cells": [
    {
      "cell_type": "markdown",
      "metadata": {
        "id": "view-in-github",
        "colab_type": "text"
      },
      "source": [
        "<a href=\"https://colab.research.google.com/github/toan27062002/exc4/blob/main/exc4.ipynb\" target=\"_parent\"><img src=\"https://colab.research.google.com/assets/colab-badge.svg\" alt=\"Open In Colab\"/></a>"
      ]
    },
    {
      "cell_type": "code",
      "metadata": {
        "id": "1bn8ho51nEsu",
        "outputId": "f8c5dbf4-3e19-489e-8788-cf6b81af6e00",
        "colab": {
          "base_uri": "https://localhost:8080/"
        }
      },
      "source": [
        "x=[]\n",
        "a=18\n",
        "x.append(a)\n",
        "b=\"Hue\"\n",
        "x.append(b)\n",
        "y = [12, 45, -1, -0.56, \"abc\"]\n",
        "x.extend(y)\n",
        "print(\"list gom cac phan tu la: \",x)\n",
        "print(\"phan tu dau: \",x[0])\n",
        "print('phan tu cuoi: ',x[-1])\n",
        "print(\"phan tu 1->5 la: \",x[:5])\n",
        "print(\"phan tu 3-> end: \",x[2:])"
      ],
      "execution_count": 16,
      "outputs": [
        {
          "output_type": "stream",
          "text": [
            "list gom cac phan tu la:  [18, 'Hue', 12, 45, -1, -0.56, 'abc']\n",
            "phan tu dau:  18\n",
            "phan tu cuoi:  abc\n",
            "phan tu 1->5 la:  [18, 'Hue', 12, 45, -1]\n",
            "phan tu 3-> end:  [12, 45, -1, -0.56, 'abc']\n"
          ],
          "name": "stdout"
        }
      ]
    }
  ]
}